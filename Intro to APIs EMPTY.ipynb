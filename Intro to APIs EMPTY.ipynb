{
 "cells": [
  {
   "cell_type": "markdown",
   "id": "7196054f",
   "metadata": {},
   "source": [
    "# Working with APIs"
   ]
  },
  {
   "cell_type": "markdown",
   "id": "0547b71e",
   "metadata": {},
   "source": [
    "API stands for Application programming interface<br>\n",
    "APIs are a way for applications to talk to eachother<br>\n",
    "In python we use the requests package to handle the connection<br>\n",
    "<small><strong>Note: It is requests with an s not request(this is a different package)</strong></small><br>\n",
    "Most API's communicate with data in the form of JSON<br>\n",
    "JSON stands for JavaScript Object Notation"
   ]
  },
  {
   "cell_type": "code",
   "execution_count": 1,
   "id": "4db9d154",
   "metadata": {},
   "outputs": [],
   "source": [
    "#import the packages we need:\n",
    "import requests"
   ]
  },
  {
   "cell_type": "markdown",
   "id": "e8c2ce51",
   "metadata": {},
   "source": [
    "We will be connecting to the Ergast F1 Racer API today:\n",
    "http://ergast.com/mrd/\n",
    "\n",
    "to view JSON data nicely in the Chrome browser install the extension JSONview"
   ]
  },
  {
   "cell_type": "code",
   "execution_count": 2,
   "id": "52c440c6",
   "metadata": {},
   "outputs": [
    {
     "name": "stdout",
     "output_type": "stream",
     "text": [
      "Help on package requests:\n",
      "\n",
      "NAME\n",
      "    requests\n",
      "\n",
      "DESCRIPTION\n",
      "    Requests HTTP Library\n",
      "    ~~~~~~~~~~~~~~~~~~~~~\n",
      "    \n",
      "    Requests is an HTTP library, written in Python, for human beings.\n",
      "    Basic GET usage:\n",
      "    \n",
      "       >>> import requests\n",
      "       >>> r = requests.get('https://www.python.org')\n",
      "       >>> r.status_code\n",
      "       200\n",
      "       >>> b'Python is a programming language' in r.content\n",
      "       True\n",
      "    \n",
      "    ... or POST:\n",
      "    \n",
      "       >>> payload = dict(key1='value1', key2='value2')\n",
      "       >>> r = requests.post('https://httpbin.org/post', data=payload)\n",
      "       >>> print(r.text)\n",
      "       {\n",
      "         ...\n",
      "         \"form\": {\n",
      "           \"key1\": \"value1\",\n",
      "           \"key2\": \"value2\"\n",
      "         },\n",
      "         ...\n",
      "       }\n",
      "    \n",
      "    The other HTTP methods are supported - see `requests.api`. Full documentation\n",
      "    is at <https://requests.readthedocs.io>.\n",
      "    \n",
      "    :copyright: (c) 2017 by Kenneth Reitz.\n",
      "    :license: Apache 2.0, see LICENSE for more details.\n",
      "\n",
      "PACKAGE CONTENTS\n",
      "    __version__\n",
      "    _internal_utils\n",
      "    adapters\n",
      "    api\n",
      "    auth\n",
      "    certs\n",
      "    compat\n",
      "    cookies\n",
      "    exceptions\n",
      "    help\n",
      "    hooks\n",
      "    models\n",
      "    packages\n",
      "    sessions\n",
      "    status_codes\n",
      "    structures\n",
      "    utils\n",
      "\n",
      "FUNCTIONS\n",
      "    check_compatibility(urllib3_version, chardet_version, charset_normalizer_version)\n",
      "\n",
      "DATA\n",
      "    __author_email__ = 'me@kennethreitz.org'\n",
      "    __build__ = 140800\n",
      "    __cake__ = '✨ 🍰 ✨'\n",
      "    __copyright__ = 'Copyright 2020 Kenneth Reitz'\n",
      "    __description__ = 'Python HTTP for Humans.'\n",
      "    __license__ = 'Apache 2.0'\n",
      "    __title__ = 'requests'\n",
      "    __url__ = 'https://requests.readthedocs.io'\n",
      "    chardet_version = '4.0.0'\n",
      "    charset_normalizer_version = '2.0.4'\n",
      "    codes = <lookup 'status_codes'>\n",
      "\n",
      "VERSION\n",
      "    2.26.0\n",
      "\n",
      "AUTHOR\n",
      "    Kenneth Reitz\n",
      "\n",
      "FILE\n",
      "    /Users/Alejandro/opt/anaconda3/lib/python3.9/site-packages/requests/__init__.py\n",
      "\n",
      "\n"
     ]
    }
   ],
   "source": [
    "help(requests)"
   ]
  },
  {
   "cell_type": "code",
   "execution_count": 4,
   "id": "f60c1b4a",
   "metadata": {},
   "outputs": [],
   "source": [
    "url = 'https://ergast.com/api/f1/2008/5/driverStandings.json'"
   ]
  },
  {
   "cell_type": "code",
   "execution_count": 5,
   "id": "7b63a204",
   "metadata": {},
   "outputs": [
    {
     "name": "stdout",
     "output_type": "stream",
     "text": [
      "<Response [200]>\n"
     ]
    }
   ],
   "source": [
    "#response object\n",
    "response = requests.get(url)\n",
    "print(response)"
   ]
  },
  {
   "cell_type": "code",
   "execution_count": 6,
   "id": "c6d1fdaf",
   "metadata": {},
   "outputs": [
    {
     "data": {
      "text/plain": [
       "True"
      ]
     },
     "execution_count": 6,
     "metadata": {},
     "output_type": "execute_result"
    }
   ],
   "source": [
    "#check and make sure we got a successful response from the API\n",
    "response.ok"
   ]
  },
  {
   "cell_type": "code",
   "execution_count": 7,
   "id": "ed4d3256",
   "metadata": {
    "scrolled": false
   },
   "outputs": [
    {
     "name": "stdout",
     "output_type": "stream",
     "text": [
      "{'MRData': {'xmlns': 'http://ergast.com/mrd/1.5', 'series': 'f1', 'url': 'http://ergast.com/api/f1/2008/5/driverstandings.json', 'limit': '30', 'offset': '0', 'total': '22', 'StandingsTable': {'season': '2008', 'round': '5', 'StandingsLists': [{'season': '2008', 'round': '5', 'DriverStandings': [{'position': '1', 'positionText': '1', 'points': '35', 'wins': '2', 'Driver': {'driverId': 'raikkonen', 'permanentNumber': '7', 'code': 'RAI', 'url': 'http://en.wikipedia.org/wiki/Kimi_R%C3%A4ikk%C3%B6nen', 'givenName': 'Kimi', 'familyName': 'Räikkönen', 'dateOfBirth': '1979-10-17', 'nationality': 'Finnish'}, 'Constructors': [{'constructorId': 'ferrari', 'url': 'http://en.wikipedia.org/wiki/Scuderia_Ferrari', 'name': 'Ferrari', 'nationality': 'Italian'}]}, {'position': '2', 'positionText': '2', 'points': '28', 'wins': '2', 'Driver': {'driverId': 'massa', 'permanentNumber': '19', 'code': 'MAS', 'url': 'http://en.wikipedia.org/wiki/Felipe_Massa', 'givenName': 'Felipe', 'familyName': 'Massa', 'dateOfBirth': '1981-04-25', 'nationality': 'Brazilian'}, 'Constructors': [{'constructorId': 'ferrari', 'url': 'http://en.wikipedia.org/wiki/Scuderia_Ferrari', 'name': 'Ferrari', 'nationality': 'Italian'}]}, {'position': '3', 'positionText': '3', 'points': '28', 'wins': '1', 'Driver': {'driverId': 'hamilton', 'permanentNumber': '44', 'code': 'HAM', 'url': 'http://en.wikipedia.org/wiki/Lewis_Hamilton', 'givenName': 'Lewis', 'familyName': 'Hamilton', 'dateOfBirth': '1985-01-07', 'nationality': 'British'}, 'Constructors': [{'constructorId': 'mclaren', 'url': 'http://en.wikipedia.org/wiki/McLaren', 'name': 'McLaren', 'nationality': 'British'}]}, {'position': '4', 'positionText': '4', 'points': '24', 'wins': '0', 'Driver': {'driverId': 'kubica', 'permanentNumber': '88', 'code': 'KUB', 'url': 'http://en.wikipedia.org/wiki/Robert_Kubica', 'givenName': 'Robert', 'familyName': 'Kubica', 'dateOfBirth': '1984-12-07', 'nationality': 'Polish'}, 'Constructors': [{'constructorId': 'bmw_sauber', 'url': 'http://en.wikipedia.org/wiki/BMW_Sauber', 'name': 'BMW Sauber', 'nationality': 'German'}]}, {'position': '5', 'positionText': '5', 'points': '20', 'wins': '0', 'Driver': {'driverId': 'heidfeld', 'code': 'HEI', 'url': 'http://en.wikipedia.org/wiki/Nick_Heidfeld', 'givenName': 'Nick', 'familyName': 'Heidfeld', 'dateOfBirth': '1977-05-10', 'nationality': 'German'}, 'Constructors': [{'constructorId': 'bmw_sauber', 'url': 'http://en.wikipedia.org/wiki/BMW_Sauber', 'name': 'BMW Sauber', 'nationality': 'German'}]}, {'position': '6', 'positionText': '6', 'points': '14', 'wins': '0', 'Driver': {'driverId': 'kovalainen', 'code': 'KOV', 'url': 'http://en.wikipedia.org/wiki/Heikki_Kovalainen', 'givenName': 'Heikki', 'familyName': 'Kovalainen', 'dateOfBirth': '1981-10-19', 'nationality': 'Finnish'}, 'Constructors': [{'constructorId': 'mclaren', 'url': 'http://en.wikipedia.org/wiki/McLaren', 'name': 'McLaren', 'nationality': 'British'}]}, {'position': '7', 'positionText': '7', 'points': '10', 'wins': '0', 'Driver': {'driverId': 'webber', 'code': 'WEB', 'url': 'http://en.wikipedia.org/wiki/Mark_Webber_(racing_driver)', 'givenName': 'Mark', 'familyName': 'Webber', 'dateOfBirth': '1976-08-27', 'nationality': 'Australian'}, 'Constructors': [{'constructorId': 'red_bull', 'url': 'http://en.wikipedia.org/wiki/Red_Bull_Racing', 'name': 'Red Bull', 'nationality': 'Austrian'}]}, {'position': '8', 'positionText': '8', 'points': '9', 'wins': '0', 'Driver': {'driverId': 'alonso', 'permanentNumber': '14', 'code': 'ALO', 'url': 'http://en.wikipedia.org/wiki/Fernando_Alonso', 'givenName': 'Fernando', 'familyName': 'Alonso', 'dateOfBirth': '1981-07-29', 'nationality': 'Spanish'}, 'Constructors': [{'constructorId': 'renault', 'url': 'http://en.wikipedia.org/wiki/Renault_in_Formula_One', 'name': 'Renault', 'nationality': 'French'}]}, {'position': '9', 'positionText': '9', 'points': '9', 'wins': '0', 'Driver': {'driverId': 'trulli', 'code': 'TRU', 'url': 'http://en.wikipedia.org/wiki/Jarno_Trulli', 'givenName': 'Jarno', 'familyName': 'Trulli', 'dateOfBirth': '1974-07-13', 'nationality': 'Italian'}, 'Constructors': [{'constructorId': 'toyota', 'url': 'http://en.wikipedia.org/wiki/Toyota_Racing', 'name': 'Toyota', 'nationality': 'Japanese'}]}, {'position': '10', 'positionText': '10', 'points': '8', 'wins': '0', 'Driver': {'driverId': 'rosberg', 'permanentNumber': '6', 'code': 'ROS', 'url': 'http://en.wikipedia.org/wiki/Nico_Rosberg', 'givenName': 'Nico', 'familyName': 'Rosberg', 'dateOfBirth': '1985-06-27', 'nationality': 'German'}, 'Constructors': [{'constructorId': 'williams', 'url': 'http://en.wikipedia.org/wiki/Williams_Grand_Prix_Engineering', 'name': 'Williams', 'nationality': 'British'}]}, {'position': '11', 'positionText': '11', 'points': '5', 'wins': '0', 'Driver': {'driverId': 'nakajima', 'code': 'NAK', 'url': 'http://en.wikipedia.org/wiki/Kazuki_Nakajima', 'givenName': 'Kazuki', 'familyName': 'Nakajima', 'dateOfBirth': '1985-01-11', 'nationality': 'Japanese'}, 'Constructors': [{'constructorId': 'williams', 'url': 'http://en.wikipedia.org/wiki/Williams_Grand_Prix_Engineering', 'name': 'Williams', 'nationality': 'British'}]}, {'position': '12', 'positionText': '12', 'points': '3', 'wins': '0', 'Driver': {'driverId': 'button', 'permanentNumber': '22', 'code': 'BUT', 'url': 'http://en.wikipedia.org/wiki/Jenson_Button', 'givenName': 'Jenson', 'familyName': 'Button', 'dateOfBirth': '1980-01-19', 'nationality': 'British'}, 'Constructors': [{'constructorId': 'honda', 'url': 'http://en.wikipedia.org/wiki/Honda_Racing_F1', 'name': 'Honda', 'nationality': 'Japanese'}]}, {'position': '13', 'positionText': '13', 'points': '2', 'wins': '0', 'Driver': {'driverId': 'bourdais', 'code': 'BOU', 'url': 'http://en.wikipedia.org/wiki/S%C3%A9bastien_Bourdais', 'givenName': 'Sébastien', 'familyName': 'Bourdais', 'dateOfBirth': '1979-02-28', 'nationality': 'French'}, 'Constructors': [{'constructorId': 'toro_rosso', 'url': 'http://en.wikipedia.org/wiki/Scuderia_Toro_Rosso', 'name': 'Toro Rosso', 'nationality': 'Italian'}]}, {'position': '14', 'positionText': '14', 'points': '0', 'wins': '0', 'Driver': {'driverId': 'coulthard', 'code': 'COU', 'url': 'http://en.wikipedia.org/wiki/David_Coulthard', 'givenName': 'David', 'familyName': 'Coulthard', 'dateOfBirth': '1971-03-27', 'nationality': 'British'}, 'Constructors': [{'constructorId': 'red_bull', 'url': 'http://en.wikipedia.org/wiki/Red_Bull_Racing', 'name': 'Red Bull', 'nationality': 'Austrian'}]}, {'position': '15', 'positionText': '15', 'points': '0', 'wins': '0', 'Driver': {'driverId': 'glock', 'code': 'GLO', 'url': 'http://en.wikipedia.org/wiki/Timo_Glock', 'givenName': 'Timo', 'familyName': 'Glock', 'dateOfBirth': '1982-03-18', 'nationality': 'German'}, 'Constructors': [{'constructorId': 'toyota', 'url': 'http://en.wikipedia.org/wiki/Toyota_Racing', 'name': 'Toyota', 'nationality': 'Japanese'}]}, {'position': '16', 'positionText': '16', 'points': '0', 'wins': '0', 'Driver': {'driverId': 'fisichella', 'code': 'FIS', 'url': 'http://en.wikipedia.org/wiki/Giancarlo_Fisichella', 'givenName': 'Giancarlo', 'familyName': 'Fisichella', 'dateOfBirth': '1973-01-14', 'nationality': 'Italian'}, 'Constructors': [{'constructorId': 'force_india', 'url': 'http://en.wikipedia.org/wiki/Racing_Point_Force_India', 'name': 'Force India', 'nationality': 'Indian'}]}, {'position': '17', 'positionText': '17', 'points': '0', 'wins': '0', 'Driver': {'driverId': 'barrichello', 'code': 'BAR', 'url': 'http://en.wikipedia.org/wiki/Rubens_Barrichello', 'givenName': 'Rubens', 'familyName': 'Barrichello', 'dateOfBirth': '1972-05-23', 'nationality': 'Brazilian'}, 'Constructors': [{'constructorId': 'honda', 'url': 'http://en.wikipedia.org/wiki/Honda_Racing_F1', 'name': 'Honda', 'nationality': 'Japanese'}]}, {'position': '18', 'positionText': '18', 'points': '0', 'wins': '0', 'Driver': {'driverId': 'piquet_jr', 'code': 'PIQ', 'url': 'http://en.wikipedia.org/wiki/Nelson_Piquet,_Jr.', 'givenName': 'Nelson', 'familyName': 'Piquet Jr.', 'dateOfBirth': '1985-07-25', 'nationality': 'Brazilian'}, 'Constructors': [{'constructorId': 'renault', 'url': 'http://en.wikipedia.org/wiki/Renault_in_Formula_One', 'name': 'Renault', 'nationality': 'French'}]}, {'position': '19', 'positionText': '19', 'points': '0', 'wins': '0', 'Driver': {'driverId': 'sato', 'code': 'SAT', 'url': 'http://en.wikipedia.org/wiki/Takuma_Sato', 'givenName': 'Takuma', 'familyName': 'Sato', 'dateOfBirth': '1977-01-28', 'nationality': 'Japanese'}, 'Constructors': [{'constructorId': 'super_aguri', 'url': 'http://en.wikipedia.org/wiki/Super_Aguri_F1', 'name': 'Super Aguri', 'nationality': 'Japanese'}]}, {'position': '20', 'positionText': '20', 'points': '0', 'wins': '0', 'Driver': {'driverId': 'davidson', 'code': 'DAV', 'url': 'http://en.wikipedia.org/wiki/Anthony_Davidson', 'givenName': 'Anthony', 'familyName': 'Davidson', 'dateOfBirth': '1979-04-18', 'nationality': 'British'}, 'Constructors': [{'constructorId': 'super_aguri', 'url': 'http://en.wikipedia.org/wiki/Super_Aguri_F1', 'name': 'Super Aguri', 'nationality': 'Japanese'}]}, {'position': '21', 'positionText': '21', 'points': '0', 'wins': '0', 'Driver': {'driverId': 'sutil', 'permanentNumber': '99', 'code': 'SUT', 'url': 'http://en.wikipedia.org/wiki/Adrian_Sutil', 'givenName': 'Adrian', 'familyName': 'Sutil', 'dateOfBirth': '1983-01-11', 'nationality': 'German'}, 'Constructors': [{'constructorId': 'force_india', 'url': 'http://en.wikipedia.org/wiki/Racing_Point_Force_India', 'name': 'Force India', 'nationality': 'Indian'}]}, {'position': '22', 'positionText': '22', 'points': '0', 'wins': '0', 'Driver': {'driverId': 'vettel', 'permanentNumber': '5', 'code': 'VET', 'url': 'http://en.wikipedia.org/wiki/Sebastian_Vettel', 'givenName': 'Sebastian', 'familyName': 'Vettel', 'dateOfBirth': '1987-07-03', 'nationality': 'German'}, 'Constructors': [{'constructorId': 'toro_rosso', 'url': 'http://en.wikipedia.org/wiki/Scuderia_Toro_Rosso', 'name': 'Toro Rosso', 'nationality': 'Italian'}]}]}]}}}\n",
      "<class 'dict'>\n"
     ]
    }
   ],
   "source": [
    "#view the response as a JSON\n",
    "print(response.json())"
   ]
  },
  {
   "cell_type": "code",
   "execution_count": 8,
   "id": "92e6cd2c",
   "metadata": {},
   "outputs": [
    {
     "name": "stdout",
     "output_type": "stream",
     "text": [
      "<class 'dict'>\n"
     ]
    }
   ],
   "source": [
    "print(type(response.json()))"
   ]
  },
  {
   "cell_type": "code",
   "execution_count": 11,
   "id": "f074dfcf",
   "metadata": {
    "scrolled": false
   },
   "outputs": [
    {
     "name": "stdout",
     "output_type": "stream",
     "text": [
      "[{'position': '1', 'positionText': '1', 'points': '35', 'wins': '2', 'Driver': {'driverId': 'raikkonen', 'permanentNumber': '7', 'code': 'RAI', 'url': 'http://en.wikipedia.org/wiki/Kimi_R%C3%A4ikk%C3%B6nen', 'givenName': 'Kimi', 'familyName': 'Räikkönen', 'dateOfBirth': '1979-10-17', 'nationality': 'Finnish'}, 'Constructors': [{'constructorId': 'ferrari', 'url': 'http://en.wikipedia.org/wiki/Scuderia_Ferrari', 'name': 'Ferrari', 'nationality': 'Italian'}]}, {'position': '2', 'positionText': '2', 'points': '28', 'wins': '2', 'Driver': {'driverId': 'massa', 'permanentNumber': '19', 'code': 'MAS', 'url': 'http://en.wikipedia.org/wiki/Felipe_Massa', 'givenName': 'Felipe', 'familyName': 'Massa', 'dateOfBirth': '1981-04-25', 'nationality': 'Brazilian'}, 'Constructors': [{'constructorId': 'ferrari', 'url': 'http://en.wikipedia.org/wiki/Scuderia_Ferrari', 'name': 'Ferrari', 'nationality': 'Italian'}]}, {'position': '3', 'positionText': '3', 'points': '28', 'wins': '1', 'Driver': {'driverId': 'hamilton', 'permanentNumber': '44', 'code': 'HAM', 'url': 'http://en.wikipedia.org/wiki/Lewis_Hamilton', 'givenName': 'Lewis', 'familyName': 'Hamilton', 'dateOfBirth': '1985-01-07', 'nationality': 'British'}, 'Constructors': [{'constructorId': 'mclaren', 'url': 'http://en.wikipedia.org/wiki/McLaren', 'name': 'McLaren', 'nationality': 'British'}]}, {'position': '4', 'positionText': '4', 'points': '24', 'wins': '0', 'Driver': {'driverId': 'kubica', 'permanentNumber': '88', 'code': 'KUB', 'url': 'http://en.wikipedia.org/wiki/Robert_Kubica', 'givenName': 'Robert', 'familyName': 'Kubica', 'dateOfBirth': '1984-12-07', 'nationality': 'Polish'}, 'Constructors': [{'constructorId': 'bmw_sauber', 'url': 'http://en.wikipedia.org/wiki/BMW_Sauber', 'name': 'BMW Sauber', 'nationality': 'German'}]}, {'position': '5', 'positionText': '5', 'points': '20', 'wins': '0', 'Driver': {'driverId': 'heidfeld', 'code': 'HEI', 'url': 'http://en.wikipedia.org/wiki/Nick_Heidfeld', 'givenName': 'Nick', 'familyName': 'Heidfeld', 'dateOfBirth': '1977-05-10', 'nationality': 'German'}, 'Constructors': [{'constructorId': 'bmw_sauber', 'url': 'http://en.wikipedia.org/wiki/BMW_Sauber', 'name': 'BMW Sauber', 'nationality': 'German'}]}, {'position': '6', 'positionText': '6', 'points': '14', 'wins': '0', 'Driver': {'driverId': 'kovalainen', 'code': 'KOV', 'url': 'http://en.wikipedia.org/wiki/Heikki_Kovalainen', 'givenName': 'Heikki', 'familyName': 'Kovalainen', 'dateOfBirth': '1981-10-19', 'nationality': 'Finnish'}, 'Constructors': [{'constructorId': 'mclaren', 'url': 'http://en.wikipedia.org/wiki/McLaren', 'name': 'McLaren', 'nationality': 'British'}]}, {'position': '7', 'positionText': '7', 'points': '10', 'wins': '0', 'Driver': {'driverId': 'webber', 'code': 'WEB', 'url': 'http://en.wikipedia.org/wiki/Mark_Webber_(racing_driver)', 'givenName': 'Mark', 'familyName': 'Webber', 'dateOfBirth': '1976-08-27', 'nationality': 'Australian'}, 'Constructors': [{'constructorId': 'red_bull', 'url': 'http://en.wikipedia.org/wiki/Red_Bull_Racing', 'name': 'Red Bull', 'nationality': 'Austrian'}]}, {'position': '8', 'positionText': '8', 'points': '9', 'wins': '0', 'Driver': {'driverId': 'alonso', 'permanentNumber': '14', 'code': 'ALO', 'url': 'http://en.wikipedia.org/wiki/Fernando_Alonso', 'givenName': 'Fernando', 'familyName': 'Alonso', 'dateOfBirth': '1981-07-29', 'nationality': 'Spanish'}, 'Constructors': [{'constructorId': 'renault', 'url': 'http://en.wikipedia.org/wiki/Renault_in_Formula_One', 'name': 'Renault', 'nationality': 'French'}]}, {'position': '9', 'positionText': '9', 'points': '9', 'wins': '0', 'Driver': {'driverId': 'trulli', 'code': 'TRU', 'url': 'http://en.wikipedia.org/wiki/Jarno_Trulli', 'givenName': 'Jarno', 'familyName': 'Trulli', 'dateOfBirth': '1974-07-13', 'nationality': 'Italian'}, 'Constructors': [{'constructorId': 'toyota', 'url': 'http://en.wikipedia.org/wiki/Toyota_Racing', 'name': 'Toyota', 'nationality': 'Japanese'}]}, {'position': '10', 'positionText': '10', 'points': '8', 'wins': '0', 'Driver': {'driverId': 'rosberg', 'permanentNumber': '6', 'code': 'ROS', 'url': 'http://en.wikipedia.org/wiki/Nico_Rosberg', 'givenName': 'Nico', 'familyName': 'Rosberg', 'dateOfBirth': '1985-06-27', 'nationality': 'German'}, 'Constructors': [{'constructorId': 'williams', 'url': 'http://en.wikipedia.org/wiki/Williams_Grand_Prix_Engineering', 'name': 'Williams', 'nationality': 'British'}]}, {'position': '11', 'positionText': '11', 'points': '5', 'wins': '0', 'Driver': {'driverId': 'nakajima', 'code': 'NAK', 'url': 'http://en.wikipedia.org/wiki/Kazuki_Nakajima', 'givenName': 'Kazuki', 'familyName': 'Nakajima', 'dateOfBirth': '1985-01-11', 'nationality': 'Japanese'}, 'Constructors': [{'constructorId': 'williams', 'url': 'http://en.wikipedia.org/wiki/Williams_Grand_Prix_Engineering', 'name': 'Williams', 'nationality': 'British'}]}, {'position': '12', 'positionText': '12', 'points': '3', 'wins': '0', 'Driver': {'driverId': 'button', 'permanentNumber': '22', 'code': 'BUT', 'url': 'http://en.wikipedia.org/wiki/Jenson_Button', 'givenName': 'Jenson', 'familyName': 'Button', 'dateOfBirth': '1980-01-19', 'nationality': 'British'}, 'Constructors': [{'constructorId': 'honda', 'url': 'http://en.wikipedia.org/wiki/Honda_Racing_F1', 'name': 'Honda', 'nationality': 'Japanese'}]}, {'position': '13', 'positionText': '13', 'points': '2', 'wins': '0', 'Driver': {'driverId': 'bourdais', 'code': 'BOU', 'url': 'http://en.wikipedia.org/wiki/S%C3%A9bastien_Bourdais', 'givenName': 'Sébastien', 'familyName': 'Bourdais', 'dateOfBirth': '1979-02-28', 'nationality': 'French'}, 'Constructors': [{'constructorId': 'toro_rosso', 'url': 'http://en.wikipedia.org/wiki/Scuderia_Toro_Rosso', 'name': 'Toro Rosso', 'nationality': 'Italian'}]}, {'position': '14', 'positionText': '14', 'points': '0', 'wins': '0', 'Driver': {'driverId': 'coulthard', 'code': 'COU', 'url': 'http://en.wikipedia.org/wiki/David_Coulthard', 'givenName': 'David', 'familyName': 'Coulthard', 'dateOfBirth': '1971-03-27', 'nationality': 'British'}, 'Constructors': [{'constructorId': 'red_bull', 'url': 'http://en.wikipedia.org/wiki/Red_Bull_Racing', 'name': 'Red Bull', 'nationality': 'Austrian'}]}, {'position': '15', 'positionText': '15', 'points': '0', 'wins': '0', 'Driver': {'driverId': 'glock', 'code': 'GLO', 'url': 'http://en.wikipedia.org/wiki/Timo_Glock', 'givenName': 'Timo', 'familyName': 'Glock', 'dateOfBirth': '1982-03-18', 'nationality': 'German'}, 'Constructors': [{'constructorId': 'toyota', 'url': 'http://en.wikipedia.org/wiki/Toyota_Racing', 'name': 'Toyota', 'nationality': 'Japanese'}]}, {'position': '16', 'positionText': '16', 'points': '0', 'wins': '0', 'Driver': {'driverId': 'fisichella', 'code': 'FIS', 'url': 'http://en.wikipedia.org/wiki/Giancarlo_Fisichella', 'givenName': 'Giancarlo', 'familyName': 'Fisichella', 'dateOfBirth': '1973-01-14', 'nationality': 'Italian'}, 'Constructors': [{'constructorId': 'force_india', 'url': 'http://en.wikipedia.org/wiki/Racing_Point_Force_India', 'name': 'Force India', 'nationality': 'Indian'}]}, {'position': '17', 'positionText': '17', 'points': '0', 'wins': '0', 'Driver': {'driverId': 'barrichello', 'code': 'BAR', 'url': 'http://en.wikipedia.org/wiki/Rubens_Barrichello', 'givenName': 'Rubens', 'familyName': 'Barrichello', 'dateOfBirth': '1972-05-23', 'nationality': 'Brazilian'}, 'Constructors': [{'constructorId': 'honda', 'url': 'http://en.wikipedia.org/wiki/Honda_Racing_F1', 'name': 'Honda', 'nationality': 'Japanese'}]}, {'position': '18', 'positionText': '18', 'points': '0', 'wins': '0', 'Driver': {'driverId': 'piquet_jr', 'code': 'PIQ', 'url': 'http://en.wikipedia.org/wiki/Nelson_Piquet,_Jr.', 'givenName': 'Nelson', 'familyName': 'Piquet Jr.', 'dateOfBirth': '1985-07-25', 'nationality': 'Brazilian'}, 'Constructors': [{'constructorId': 'renault', 'url': 'http://en.wikipedia.org/wiki/Renault_in_Formula_One', 'name': 'Renault', 'nationality': 'French'}]}, {'position': '19', 'positionText': '19', 'points': '0', 'wins': '0', 'Driver': {'driverId': 'sato', 'code': 'SAT', 'url': 'http://en.wikipedia.org/wiki/Takuma_Sato', 'givenName': 'Takuma', 'familyName': 'Sato', 'dateOfBirth': '1977-01-28', 'nationality': 'Japanese'}, 'Constructors': [{'constructorId': 'super_aguri', 'url': 'http://en.wikipedia.org/wiki/Super_Aguri_F1', 'name': 'Super Aguri', 'nationality': 'Japanese'}]}, {'position': '20', 'positionText': '20', 'points': '0', 'wins': '0', 'Driver': {'driverId': 'davidson', 'code': 'DAV', 'url': 'http://en.wikipedia.org/wiki/Anthony_Davidson', 'givenName': 'Anthony', 'familyName': 'Davidson', 'dateOfBirth': '1979-04-18', 'nationality': 'British'}, 'Constructors': [{'constructorId': 'super_aguri', 'url': 'http://en.wikipedia.org/wiki/Super_Aguri_F1', 'name': 'Super Aguri', 'nationality': 'Japanese'}]}, {'position': '21', 'positionText': '21', 'points': '0', 'wins': '0', 'Driver': {'driverId': 'sutil', 'permanentNumber': '99', 'code': 'SUT', 'url': 'http://en.wikipedia.org/wiki/Adrian_Sutil', 'givenName': 'Adrian', 'familyName': 'Sutil', 'dateOfBirth': '1983-01-11', 'nationality': 'German'}, 'Constructors': [{'constructorId': 'force_india', 'url': 'http://en.wikipedia.org/wiki/Racing_Point_Force_India', 'name': 'Force India', 'nationality': 'Indian'}]}, {'position': '22', 'positionText': '22', 'points': '0', 'wins': '0', 'Driver': {'driverId': 'vettel', 'permanentNumber': '5', 'code': 'VET', 'url': 'http://en.wikipedia.org/wiki/Sebastian_Vettel', 'givenName': 'Sebastian', 'familyName': 'Vettel', 'dateOfBirth': '1987-07-03', 'nationality': 'German'}, 'Constructors': [{'constructorId': 'toro_rosso', 'url': 'http://en.wikipedia.org/wiki/Scuderia_Toro_Rosso', 'name': 'Toro Rosso', 'nationality': 'Italian'}]}]\n"
     ]
    }
   ],
   "source": [
    "# We only want the Driver Standings\n",
    "data = response.json()['MRData']['StandingsTable']['StandingsLists'][0]['DriverStandings']\n",
    "print(data)"
   ]
  },
  {
   "cell_type": "code",
   "execution_count": 12,
   "id": "be46a950",
   "metadata": {},
   "outputs": [
    {
     "data": {
      "text/plain": [
       "list"
      ]
     },
     "execution_count": 12,
     "metadata": {},
     "output_type": "execute_result"
    }
   ],
   "source": [
    "type(data)"
   ]
  },
  {
   "cell_type": "code",
   "execution_count": 13,
   "id": "3740c752",
   "metadata": {
    "scrolled": true
   },
   "outputs": [
    {
     "data": {
      "text/plain": [
       "{'position': '1',\n",
       " 'positionText': '1',\n",
       " 'points': '35',\n",
       " 'wins': '2',\n",
       " 'Driver': {'driverId': 'raikkonen',\n",
       "  'permanentNumber': '7',\n",
       "  'code': 'RAI',\n",
       "  'url': 'http://en.wikipedia.org/wiki/Kimi_R%C3%A4ikk%C3%B6nen',\n",
       "  'givenName': 'Kimi',\n",
       "  'familyName': 'Räikkönen',\n",
       "  'dateOfBirth': '1979-10-17',\n",
       "  'nationality': 'Finnish'},\n",
       " 'Constructors': [{'constructorId': 'ferrari',\n",
       "   'url': 'http://en.wikipedia.org/wiki/Scuderia_Ferrari',\n",
       "   'name': 'Ferrari',\n",
       "   'nationality': 'Italian'}]}"
      ]
     },
     "execution_count": 13,
     "metadata": {},
     "output_type": "execute_result"
    }
   ],
   "source": [
    "data[0]"
   ]
  },
  {
   "cell_type": "code",
   "execution_count": 14,
   "id": "cdf46427",
   "metadata": {
    "scrolled": false
   },
   "outputs": [
    {
     "name": "stdout",
     "output_type": "stream",
     "text": [
      "[{'Kimi Räikkönen': {'first_name': {'Kimi'}, 'last_name': {'Räikkönen'}, 'position': '1', 'wins': '2', 'DOB': '1979-10-17', 'nationality': 'Finnish', 'constructor': 'Ferrari'}}, {'Felipe Massa': {'first_name': {'Felipe'}, 'last_name': {'Massa'}, 'position': '2', 'wins': '2', 'DOB': '1981-04-25', 'nationality': 'Brazilian', 'constructor': 'Ferrari'}}, {'Lewis Hamilton': {'first_name': {'Lewis'}, 'last_name': {'Hamilton'}, 'position': '3', 'wins': '1', 'DOB': '1985-01-07', 'nationality': 'British', 'constructor': 'McLaren'}}, {'Robert Kubica': {'first_name': {'Robert'}, 'last_name': {'Kubica'}, 'position': '4', 'wins': '0', 'DOB': '1984-12-07', 'nationality': 'Polish', 'constructor': 'BMW Sauber'}}, {'Nick Heidfeld': {'first_name': {'Nick'}, 'last_name': {'Heidfeld'}, 'position': '5', 'wins': '0', 'DOB': '1977-05-10', 'nationality': 'German', 'constructor': 'BMW Sauber'}}, {'Heikki Kovalainen': {'first_name': {'Heikki'}, 'last_name': {'Kovalainen'}, 'position': '6', 'wins': '0', 'DOB': '1981-10-19', 'nationality': 'Finnish', 'constructor': 'McLaren'}}, {'Mark Webber': {'first_name': {'Mark'}, 'last_name': {'Webber'}, 'position': '7', 'wins': '0', 'DOB': '1976-08-27', 'nationality': 'Australian', 'constructor': 'Red Bull'}}, {'Fernando Alonso': {'first_name': {'Fernando'}, 'last_name': {'Alonso'}, 'position': '8', 'wins': '0', 'DOB': '1981-07-29', 'nationality': 'Spanish', 'constructor': 'Renault'}}, {'Jarno Trulli': {'first_name': {'Jarno'}, 'last_name': {'Trulli'}, 'position': '9', 'wins': '0', 'DOB': '1974-07-13', 'nationality': 'Italian', 'constructor': 'Toyota'}}, {'Nico Rosberg': {'first_name': {'Nico'}, 'last_name': {'Rosberg'}, 'position': '10', 'wins': '0', 'DOB': '1985-06-27', 'nationality': 'German', 'constructor': 'Williams'}}, {'Kazuki Nakajima': {'first_name': {'Kazuki'}, 'last_name': {'Nakajima'}, 'position': '11', 'wins': '0', 'DOB': '1985-01-11', 'nationality': 'Japanese', 'constructor': 'Williams'}}, {'Jenson Button': {'first_name': {'Jenson'}, 'last_name': {'Button'}, 'position': '12', 'wins': '0', 'DOB': '1980-01-19', 'nationality': 'British', 'constructor': 'Honda'}}, {'Sébastien Bourdais': {'first_name': {'Sébastien'}, 'last_name': {'Bourdais'}, 'position': '13', 'wins': '0', 'DOB': '1979-02-28', 'nationality': 'French', 'constructor': 'Toro Rosso'}}, {'David Coulthard': {'first_name': {'David'}, 'last_name': {'Coulthard'}, 'position': '14', 'wins': '0', 'DOB': '1971-03-27', 'nationality': 'British', 'constructor': 'Red Bull'}}, {'Timo Glock': {'first_name': {'Timo'}, 'last_name': {'Glock'}, 'position': '15', 'wins': '0', 'DOB': '1982-03-18', 'nationality': 'German', 'constructor': 'Toyota'}}, {'Giancarlo Fisichella': {'first_name': {'Giancarlo'}, 'last_name': {'Fisichella'}, 'position': '16', 'wins': '0', 'DOB': '1973-01-14', 'nationality': 'Italian', 'constructor': 'Force India'}}, {'Rubens Barrichello': {'first_name': {'Rubens'}, 'last_name': {'Barrichello'}, 'position': '17', 'wins': '0', 'DOB': '1972-05-23', 'nationality': 'Brazilian', 'constructor': 'Honda'}}, {'Nelson Piquet Jr.': {'first_name': {'Nelson'}, 'last_name': {'Piquet Jr.'}, 'position': '18', 'wins': '0', 'DOB': '1985-07-25', 'nationality': 'Brazilian', 'constructor': 'Renault'}}, {'Takuma Sato': {'first_name': {'Takuma'}, 'last_name': {'Sato'}, 'position': '19', 'wins': '0', 'DOB': '1977-01-28', 'nationality': 'Japanese', 'constructor': 'Super Aguri'}}, {'Anthony Davidson': {'first_name': {'Anthony'}, 'last_name': {'Davidson'}, 'position': '20', 'wins': '0', 'DOB': '1979-04-18', 'nationality': 'British', 'constructor': 'Super Aguri'}}, {'Adrian Sutil': {'first_name': {'Adrian'}, 'last_name': {'Sutil'}, 'position': '21', 'wins': '0', 'DOB': '1983-01-11', 'nationality': 'German', 'constructor': 'Force India'}}, {'Sebastian Vettel': {'first_name': {'Sebastian'}, 'last_name': {'Vettel'}, 'position': '22', 'wins': '0', 'DOB': '1987-07-03', 'nationality': 'German', 'constructor': 'Toro Rosso'}}]\n"
     ]
    }
   ],
   "source": [
    "def get_racer_info(data):\n",
    "    new_data = []\n",
    "    for racer in data:\n",
    "        racer_dict = {}\n",
    "        racer_name = f\"{racer['Driver']['givenName']} {racer['Driver']['familyName']}\"\n",
    "        racer_dict[racer_name]={\n",
    "            \"first_name\":{racer['Driver']['givenName']},\n",
    "            \"last_name\":{racer['Driver']['familyName']},\n",
    "            \"position\":racer['position'],\n",
    "            \"wins\":racer['wins'],\n",
    "            \"DOB\":racer['Driver']['dateOfBirth'],\n",
    "            \"nationality\":racer['Driver']['nationality'],\n",
    "            \"constructor\":racer['Constructors'][0]['name']\n",
    "        }\n",
    "        new_data.append(racer_dict)\n",
    "    return new_data\n",
    "print(get_racer_info(data))"
   ]
  },
  {
   "cell_type": "code",
   "execution_count": 16,
   "id": "09bf13c7",
   "metadata": {
    "scrolled": true
   },
   "outputs": [
    {
     "name": "stdout",
     "output_type": "stream",
     "text": [
      "[{'Sebastian Vettel': {'first_name': {'Sebastian'}, 'last_name': {'Vettel'}, 'position': '1', 'wins': '2', 'DOB': '1987-07-03', 'nationality': 'German', 'constructor': 'Ferrari'}}, {'Lewis Hamilton': {'first_name': {'Lewis'}, 'last_name': {'Hamilton'}, 'position': '2', 'wins': '0', 'DOB': '1985-01-07', 'nationality': 'British', 'constructor': 'Mercedes'}}, {'Valtteri Bottas': {'first_name': {'Valtteri'}, 'last_name': {'Bottas'}, 'position': '3', 'wins': '0', 'DOB': '1989-08-28', 'nationality': 'Finnish', 'constructor': 'Mercedes'}}, {'Daniel Ricciardo': {'first_name': {'Daniel'}, 'last_name': {'Ricciardo'}, 'position': '4', 'wins': '1', 'DOB': '1989-07-01', 'nationality': 'Australian', 'constructor': 'Red Bull'}}, {'Kimi Räikkönen': {'first_name': {'Kimi'}, 'last_name': {'Räikkönen'}, 'position': '5', 'wins': '0', 'DOB': '1979-10-17', 'nationality': 'Finnish', 'constructor': 'Ferrari'}}, {'Fernando Alonso': {'first_name': {'Fernando'}, 'last_name': {'Alonso'}, 'position': '6', 'wins': '0', 'DOB': '1981-07-29', 'nationality': 'Spanish', 'constructor': 'McLaren'}}, {'Nico Hülkenberg': {'first_name': {'Nico'}, 'last_name': {'Hülkenberg'}, 'position': '7', 'wins': '0', 'DOB': '1987-08-19', 'nationality': 'German', 'constructor': 'Renault'}}, {'Max Verstappen': {'first_name': {'Max'}, 'last_name': {'Verstappen'}, 'position': '8', 'wins': '0', 'DOB': '1997-09-30', 'nationality': 'Dutch', 'constructor': 'Red Bull'}}, {'Pierre Gasly': {'first_name': {'Pierre'}, 'last_name': {'Gasly'}, 'position': '9', 'wins': '0', 'DOB': '1996-02-07', 'nationality': 'French', 'constructor': 'Toro Rosso'}}, {'Kevin Magnussen': {'first_name': {'Kevin'}, 'last_name': {'Magnussen'}, 'position': '10', 'wins': '0', 'DOB': '1992-10-05', 'nationality': 'Danish', 'constructor': 'Haas F1 Team'}}, {'Stoffel Vandoorne': {'first_name': {'Stoffel'}, 'last_name': {'Vandoorne'}, 'position': '11', 'wins': '0', 'DOB': '1992-03-26', 'nationality': 'Belgian', 'constructor': 'McLaren'}}, {'Carlos Sainz': {'first_name': {'Carlos'}, 'last_name': {'Sainz'}, 'position': '12', 'wins': '0', 'DOB': '1994-09-01', 'nationality': 'Spanish', 'constructor': 'Renault'}}, {'Marcus Ericsson': {'first_name': {'Marcus'}, 'last_name': {'Ericsson'}, 'position': '13', 'wins': '0', 'DOB': '1990-09-02', 'nationality': 'Swedish', 'constructor': 'Sauber'}}, {'Esteban Ocon': {'first_name': {'Esteban'}, 'last_name': {'Ocon'}, 'position': '14', 'wins': '0', 'DOB': '1996-09-17', 'nationality': 'French', 'constructor': 'Force India'}}, {'Sergio Pérez': {'first_name': {'Sergio'}, 'last_name': {'Pérez'}, 'position': '15', 'wins': '0', 'DOB': '1990-01-26', 'nationality': 'Mexican', 'constructor': 'Force India'}}, {'Charles Leclerc': {'first_name': {'Charles'}, 'last_name': {'Leclerc'}, 'position': '16', 'wins': '0', 'DOB': '1997-10-16', 'nationality': 'Monegasque', 'constructor': 'Sauber'}}, {'Romain Grosjean': {'first_name': {'Romain'}, 'last_name': {'Grosjean'}, 'position': '17', 'wins': '0', 'DOB': '1986-04-17', 'nationality': 'French', 'constructor': 'Haas F1 Team'}}, {'Lance Stroll': {'first_name': {'Lance'}, 'last_name': {'Stroll'}, 'position': '18', 'wins': '0', 'DOB': '1998-10-29', 'nationality': 'Canadian', 'constructor': 'Williams'}}, {'Sergey Sirotkin': {'first_name': {'Sergey'}, 'last_name': {'Sirotkin'}, 'position': '19', 'wins': '0', 'DOB': '1995-08-27', 'nationality': 'Russian', 'constructor': 'Williams'}}, {'Brendon Hartley': {'first_name': {'Brendon'}, 'last_name': {'Hartley'}, 'position': '20', 'wins': '0', 'DOB': '1989-11-10', 'nationality': 'New Zealander', 'constructor': 'Toro Rosso'}}]\n"
     ]
    }
   ],
   "source": [
    "def get_driver_info_by_year_and_round(year, r):\n",
    "    url = f'https://ergast.com/api/f1/{year}/{r}/driverStandings.json'\n",
    "    response = requests.get(url)\n",
    "    if not response.ok:\n",
    "        return 'We had an error'\n",
    "    if not response.json()['MRData']['StandingsTable']['StandingsLists']:\n",
    "        return 'We had an error loading your data most likely because the year/round combo is not in the database'\n",
    "    data = response.json()['MRData']['StandingsTable']['StandingsLists'][0]['DriverStandings']\n",
    "    return get_racer_info(data)\n",
    "\n",
    "print(get_driver_info_by_year_and_round(2018, 3))       "
   ]
  },
  {
   "cell_type": "code",
   "execution_count": 17,
   "id": "64ca12e5",
   "metadata": {
    "scrolled": true
   },
   "outputs": [
    {
     "name": "stdout",
     "output_type": "stream",
     "text": [
      "[{'Graham Hill': {'first_name': {'Graham'}, 'last_name': {'Hill'}, 'position': '1', 'wins': '1', 'DOB': '1929-02-15', 'nationality': 'British', 'constructor': 'BRM'}}, {'Jim Clark': {'first_name': {'Jim'}, 'last_name': {'Clark'}, 'position': '2', 'wins': '1', 'DOB': '1936-03-04', 'nationality': 'British', 'constructor': 'Lotus-Climax'}}, {'John Surtees': {'first_name': {'John'}, 'last_name': {'Surtees'}, 'position': '3', 'wins': '0', 'DOB': '1934-02-11', 'nationality': 'British', 'constructor': 'Ferrari'}}, {'Lorenzo Bandini': {'first_name': {'Lorenzo'}, 'last_name': {'Bandini'}, 'position': '4', 'wins': '0', 'DOB': '1935-12-21', 'nationality': 'Italian', 'constructor': 'Ferrari'}}, {'Jackie Stewart': {'first_name': {'Jackie'}, 'last_name': {'Stewart'}, 'position': '5', 'wins': '0', 'DOB': '1939-06-11', 'nationality': 'British', 'constructor': 'BRM'}}, {'Bruce McLaren': {'first_name': {'Bruce'}, 'last_name': {'McLaren'}, 'position': '6', 'wins': '0', 'DOB': '1937-08-30', 'nationality': 'New Zealander', 'constructor': 'Cooper-Climax'}}, {'Mike Spence': {'first_name': {'Mike'}, 'last_name': {'Spence'}, 'position': '7', 'wins': '0', 'DOB': '1936-12-30', 'nationality': 'British', 'constructor': 'Lotus-Climax'}}, {'Jo Siffert': {'first_name': {'Jo'}, 'last_name': {'Siffert'}, 'position': '8', 'wins': '0', 'DOB': '1936-07-07', 'nationality': 'Swiss', 'constructor': 'Brabham-BRM'}}, {'Jo Bonnier': {'first_name': {'Jo'}, 'last_name': {'Bonnier'}, 'position': '9', 'wins': '0', 'DOB': '1930-01-31', 'nationality': 'Swedish', 'constructor': 'Brabham-Climax'}}, {'Jack Brabham': {'first_name': {'Jack'}, 'last_name': {'Brabham'}, 'position': '10', 'wins': '0', 'DOB': '1926-04-02', 'nationality': 'Australian', 'constructor': 'Brabham-Climax'}}, {'Denny Hulme': {'first_name': {'Denny'}, 'last_name': {'Hulme'}, 'position': '11', 'wins': '0', 'DOB': '1936-06-18', 'nationality': 'New Zealander', 'constructor': 'Brabham-Climax'}}, {'Paul Hawkins': {'first_name': {'Paul'}, 'last_name': {'Hawkins'}, 'position': '12', 'wins': '0', 'DOB': '1937-10-12', 'nationality': 'Australian', 'constructor': 'Brabham-Ford'}}, {'Bob Anderson': {'first_name': {'Bob'}, 'last_name': {'Anderson'}, 'position': '13', 'wins': '0', 'DOB': '1931-05-19', 'nationality': 'British', 'constructor': 'Brabham-Climax'}}, {'Peter de Klerk': {'first_name': {'Peter'}, 'last_name': {'de Klerk'}, 'position': '14', 'wins': '0', 'DOB': '1935-03-16', 'nationality': 'South African', 'constructor': 'Alfa Romeo'}}, {'Tony Maggs': {'first_name': {'Tony'}, 'last_name': {'Maggs'}, 'position': '15', 'wins': '0', 'DOB': '1937-02-09', 'nationality': 'South African', 'constructor': 'Lotus-BRM'}}, {'Frank Gardner': {'first_name': {'Frank'}, 'last_name': {'Gardner'}, 'position': '16', 'wins': '0', 'DOB': '1930-10-01', 'nationality': 'Australian', 'constructor': 'Brabham-BRM'}}, {'Sam Tingle': {'first_name': {'Sam'}, 'last_name': {'Tingle'}, 'position': '17', 'wins': '0', 'DOB': '1921-08-24', 'nationality': 'Rhodesian', 'constructor': 'LDS-Alfa Romeo'}}, {'David Prophet': {'first_name': {'David'}, 'last_name': {'Prophet'}, 'position': '18', 'wins': '0', 'DOB': '1937-10-09', 'nationality': 'British', 'constructor': 'Brabham-Ford'}}, {'Richard Attwood': {'first_name': {'Richard'}, 'last_name': {'Attwood'}, 'position': '19', 'wins': '0', 'DOB': '1940-04-04', 'nationality': 'British', 'constructor': 'Lotus-BRM'}}, {'Ronnie Bucknum': {'first_name': {'Ronnie'}, 'last_name': {'Bucknum'}, 'position': '20', 'wins': '0', 'DOB': '1936-04-05', 'nationality': 'American', 'constructor': 'Honda'}}, {'Mike Hailwood': {'first_name': {'Mike'}, 'last_name': {'Hailwood'}, 'position': '21', 'wins': '0', 'DOB': '1940-04-02', 'nationality': 'British', 'constructor': 'Lotus-BRM'}}, {'Richie Ginther': {'first_name': {'Richie'}, 'last_name': {'Ginther'}, 'position': '22', 'wins': '0', 'DOB': '1930-08-05', 'nationality': 'American', 'constructor': 'Honda'}}, {'Jochen Rindt': {'first_name': {'Jochen'}, 'last_name': {'Rindt'}, 'position': '23', 'wins': '0', 'DOB': '1942-04-18', 'nationality': 'Austrian', 'constructor': 'Cooper-Climax'}}, {'John Love': {'first_name': {'John'}, 'last_name': {'Love'}, 'position': '24', 'wins': '0', 'DOB': '1924-12-07', 'nationality': 'Rhodesian', 'constructor': 'Cooper-Climax'}}, {'Dan Gurney': {'first_name': {'Dan'}, 'last_name': {'Gurney'}, 'position': '25', 'wins': '0', 'DOB': '1931-04-13', 'nationality': 'American', 'constructor': 'Brabham-Climax'}}, {'Trevor Blokdyk': {'first_name': {'Trevor'}, 'last_name': {'Blokdyk'}, 'position': '26', 'wins': '0', 'DOB': '1935-11-30', 'nationality': 'South African', 'constructor': 'Cooper-Ford'}}, {'Neville Lederle': {'first_name': {'Neville'}, 'last_name': {'Lederle'}, 'position': '27', 'wins': '0', 'DOB': '1938-09-25', 'nationality': 'South African', 'constructor': 'Lotus-Climax'}}, {'Doug Serrurier': {'first_name': {'Doug'}, 'last_name': {'Serrurier'}, 'position': '28', 'wins': '0', 'DOB': '1920-12-09', 'nationality': 'South African', 'constructor': 'LDS-Climax'}}, {'Brausch Niemann': {'first_name': {'Brausch'}, 'last_name': {'Niemann'}, 'position': '29', 'wins': '0', 'DOB': '1939-01-07', 'nationality': 'South African', 'constructor': 'Lotus-Ford'}}, {'Ernie Pieterse': {'first_name': {'Ernie'}, 'last_name': {'Pieterse'}, 'position': '30', 'wins': '0', 'DOB': '1938-07-04', 'nationality': 'South African', 'constructor': 'Lotus-Climax'}}]\n"
     ]
    }
   ],
   "source": [
    "print(get_driver_info_by_year_and_round(1965, 2))"
   ]
  },
  {
   "cell_type": "code",
   "execution_count": 18,
   "id": "cbc976fa",
   "metadata": {},
   "outputs": [
    {
     "name": "stdout",
     "output_type": "stream",
     "text": [
      "We had an error loading your data most likely because the year/round combo is not in the database\n"
     ]
    }
   ],
   "source": [
    "print(get_driver_info_by_year_and_round(2023, 4))"
   ]
  },
  {
   "cell_type": "markdown",
   "id": "85e69daa",
   "metadata": {},
   "source": [
    "# <strong>Homework</strong>\n",
    "check out this Pokemon API https://pokeapi.co/\n",
    "Use the requests package to connect to this API and get and store data for 5 different pokemon.\n",
    "Get the pokemons: name, atleast one ability's name, base_experience, and the URL for its sprite (an image that shows up on screen) for the 'front_shiny', attack base_state, hp base_stat, defense base_stat"
   ]
  },
  {
   "cell_type": "code",
   "execution_count": 7,
   "id": "5a9081e3",
   "metadata": {},
   "outputs": [],
   "source": [
    "#for our homework, we don't need to loop over the data, because it's all about 1 pokemon...\n",
    "#we aren't looping over a list of pokemon\n",
    "import requests"
   ]
  },
  {
   "cell_type": "code",
   "execution_count": 8,
   "id": "4fe8e959",
   "metadata": {},
   "outputs": [],
   "source": [
    "url = 'https://pokeapi.co/api/v2/pokemon/ditto'"
   ]
  },
  {
   "cell_type": "code",
   "execution_count": 9,
   "id": "1157dadb",
   "metadata": {},
   "outputs": [
    {
     "name": "stdout",
     "output_type": "stream",
     "text": [
      "<Response [200]>\n"
     ]
    }
   ],
   "source": [
    "response = requests.get(url)\n",
    "print(response)"
   ]
  },
  {
   "cell_type": "code",
   "execution_count": 10,
   "id": "540faad6",
   "metadata": {
    "scrolled": true
   },
   "outputs": [
    {
     "data": {
      "text/plain": [
       "True"
      ]
     },
     "execution_count": 10,
     "metadata": {},
     "output_type": "execute_result"
    }
   ],
   "source": [
    "response.ok"
   ]
  },
  {
   "cell_type": "code",
   "execution_count": 24,
   "id": "84eb5b91",
   "metadata": {},
   "outputs": [
    {
     "name": "stdout",
     "output_type": "stream",
     "text": [
      "ditto limber 101 https://raw.githubusercontent.com/PokeAPI/sprites/master/sprites/pokemon/132.png\n",
      "shinx rivalry 53 https://raw.githubusercontent.com/PokeAPI/sprites/master/sprites/pokemon/403.png\n",
      "eevee run-away 65 https://raw.githubusercontent.com/PokeAPI/sprites/master/sprites/pokemon/133.png\n",
      "charizard blaze 267 https://raw.githubusercontent.com/PokeAPI/sprites/master/sprites/pokemon/6.png\n",
      "gible sand-veil 60 https://raw.githubusercontent.com/PokeAPI/sprites/master/sprites/pokemon/443.png\n"
     ]
    }
   ],
   "source": [
    "#name, atleast one ability's name, base_experience, and the URL for its sprite\n",
    "#def pokemon(name):\n",
    "def pokemon_data(url):\n",
    "    response = requests.get(url)\n",
    "    if not response.ok:\n",
    "        return 'We had an error'\n",
    "    name = response.json()['name']\n",
    "    ability_name = response.json()['abilities'][0]['ability']['name']\n",
    "    base_experience = response.json()['base_experience']\n",
    "    sprite = response.json()['sprites']['front_default']\n",
    "    print(name, ability_name, base_experience, sprite)\n",
    "\n",
    "ditto = 'https://pokeapi.co/api/v2/pokemon/ditto'\n",
    "shinx = 'https://pokeapi.co/api/v2/pokemon/shinx'\n",
    "eevee = 'https://pokeapi.co/api/v2/pokemon/eevee'\n",
    "charizard = 'https://pokeapi.co/api/v2/pokemon/charizard'\n",
    "gible = 'https://pokeapi.co/api/v2/pokemon/gible'\n",
    "pokemon_data(ditto)\n",
    "pokemon_data(shinx)\n",
    "pokemon_data(eevee)\n",
    "pokemon_data(charizard)\n",
    "pokemon_data(gible)\n"
   ]
  },
  {
   "cell_type": "code",
   "execution_count": null,
   "id": "992b36c6",
   "metadata": {},
   "outputs": [],
   "source": []
  }
 ],
 "metadata": {
  "kernelspec": {
   "display_name": "Python 3 (ipykernel)",
   "language": "python",
   "name": "python3"
  },
  "language_info": {
   "codemirror_mode": {
    "name": "ipython",
    "version": 3
   },
   "file_extension": ".py",
   "mimetype": "text/x-python",
   "name": "python",
   "nbconvert_exporter": "python",
   "pygments_lexer": "ipython3",
   "version": "3.9.7"
  }
 },
 "nbformat": 4,
 "nbformat_minor": 5
}
